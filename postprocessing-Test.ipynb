{
 "cells": [
  {
   "cell_type": "code",
   "execution_count": 1,
   "metadata": {},
   "outputs": [],
   "source": [
    "import pandas as pd\n",
    "import numpy as np\n",
    "import os\n",
    "import utils\n",
    "from ast import literal_eval"
   ]
  },
  {
   "cell_type": "code",
   "execution_count": 37,
   "metadata": {},
   "outputs": [],
   "source": [
    "out_filename = 'out.csv'\n",
    "ppt_filename = 'PPT2.csv'"
   ]
  },
  {
   "cell_type": "code",
   "execution_count": 38,
   "metadata": {},
   "outputs": [
    {
     "data": {
      "text/html": [
       "<div>\n",
       "<style scoped>\n",
       "    .dataframe tbody tr th:only-of-type {\n",
       "        vertical-align: middle;\n",
       "    }\n",
       "\n",
       "    .dataframe tbody tr th {\n",
       "        vertical-align: top;\n",
       "    }\n",
       "\n",
       "    .dataframe thead th {\n",
       "        text-align: right;\n",
       "    }\n",
       "</style>\n",
       "<table border=\"1\" class=\"dataframe\">\n",
       "  <thead>\n",
       "    <tr style=\"text-align: right;\">\n",
       "      <th></th>\n",
       "      <th>Unnamed: 0</th>\n",
       "      <th>x</th>\n",
       "      <th>y</th>\n",
       "      <th>conf</th>\n",
       "      <th>cls_conf</th>\n",
       "      <th>cls_pred</th>\n",
       "      <th>file</th>\n",
       "    </tr>\n",
       "  </thead>\n",
       "  <tbody>\n",
       "    <tr>\n",
       "      <th>0</th>\n",
       "      <td>0</td>\n",
       "      <td>151.701859</td>\n",
       "      <td>223.045929</td>\n",
       "      <td>0.976195</td>\n",
       "      <td>0.999687</td>\n",
       "      <td>1.0</td>\n",
       "      <td>data/custom/sliceTs/ts-LNDb-0006-0196.jpg</td>\n",
       "    </tr>\n",
       "    <tr>\n",
       "      <th>1</th>\n",
       "      <td>1</td>\n",
       "      <td>146.343155</td>\n",
       "      <td>225.865540</td>\n",
       "      <td>0.823491</td>\n",
       "      <td>0.997536</td>\n",
       "      <td>1.0</td>\n",
       "      <td>data/custom/sliceTs/ts-LNDb-0006-0196.jpg</td>\n",
       "    </tr>\n",
       "    <tr>\n",
       "      <th>2</th>\n",
       "      <td>2</td>\n",
       "      <td>168.036804</td>\n",
       "      <td>222.385742</td>\n",
       "      <td>0.887685</td>\n",
       "      <td>0.997042</td>\n",
       "      <td>1.0</td>\n",
       "      <td>data/custom/sliceTs/ts-LNDb-0006-0199.jpg</td>\n",
       "    </tr>\n",
       "    <tr>\n",
       "      <th>3</th>\n",
       "      <td>3</td>\n",
       "      <td>414.475555</td>\n",
       "      <td>253.854187</td>\n",
       "      <td>0.995986</td>\n",
       "      <td>0.998764</td>\n",
       "      <td>1.0</td>\n",
       "      <td>data/custom/sliceTs/ts-LNDb-0006-0211.jpg</td>\n",
       "    </tr>\n",
       "    <tr>\n",
       "      <th>4</th>\n",
       "      <td>4</td>\n",
       "      <td>411.358093</td>\n",
       "      <td>256.484802</td>\n",
       "      <td>0.972242</td>\n",
       "      <td>0.998506</td>\n",
       "      <td>1.0</td>\n",
       "      <td>data/custom/sliceTs/ts-LNDb-0006-0211.jpg</td>\n",
       "    </tr>\n",
       "  </tbody>\n",
       "</table>\n",
       "</div>"
      ],
      "text/plain": [
       "   Unnamed: 0           x           y      conf  cls_conf  cls_pred  \\\n",
       "0           0  151.701859  223.045929  0.976195  0.999687       1.0   \n",
       "1           1  146.343155  225.865540  0.823491  0.997536       1.0   \n",
       "2           2  168.036804  222.385742  0.887685  0.997042       1.0   \n",
       "3           3  414.475555  253.854187  0.995986  0.998764       1.0   \n",
       "4           4  411.358093  256.484802  0.972242  0.998506       1.0   \n",
       "\n",
       "                                        file  \n",
       "0  data/custom/sliceTs/ts-LNDb-0006-0196.jpg  \n",
       "1  data/custom/sliceTs/ts-LNDb-0006-0196.jpg  \n",
       "2  data/custom/sliceTs/ts-LNDb-0006-0199.jpg  \n",
       "3  data/custom/sliceTs/ts-LNDb-0006-0211.jpg  \n",
       "4  data/custom/sliceTs/ts-LNDb-0006-0211.jpg  "
      ]
     },
     "execution_count": 38,
     "metadata": {},
     "output_type": "execute_result"
    }
   ],
   "source": [
    "out_df = pd.read_csv(out_filename)\n",
    "ppt = pd.read_csv(ppt_filename)\n",
    "out_df = out_df.iloc[:2431]\n",
    "out_df.head()"
   ]
  },
  {
   "cell_type": "code",
   "execution_count": 39,
   "metadata": {},
   "outputs": [
    {
     "data": {
      "text/html": [
       "<div>\n",
       "<style scoped>\n",
       "    .dataframe tbody tr th:only-of-type {\n",
       "        vertical-align: middle;\n",
       "    }\n",
       "\n",
       "    .dataframe tbody tr th {\n",
       "        vertical-align: top;\n",
       "    }\n",
       "\n",
       "    .dataframe thead th {\n",
       "        text-align: right;\n",
       "    }\n",
       "</style>\n",
       "<table border=\"1\" class=\"dataframe\">\n",
       "  <thead>\n",
       "    <tr style=\"text-align: right;\">\n",
       "      <th></th>\n",
       "      <th>Unnamed: 0</th>\n",
       "      <th>0</th>\n",
       "      <th>orig shp</th>\n",
       "      <th>origin</th>\n",
       "      <th>t_wrld</th>\n",
       "    </tr>\n",
       "  </thead>\n",
       "  <tbody>\n",
       "    <tr>\n",
       "      <th>0</th>\n",
       "      <td>0</td>\n",
       "      <td>ts-LNDb-0160-0208.jpg</td>\n",
       "      <td>(349, 512, 660)</td>\n",
       "      <td>(-208.03807160195095, -296.20541828947677, -12...</td>\n",
       "      <td>ts-LNDb-0160-0208</td>\n",
       "    </tr>\n",
       "    <tr>\n",
       "      <th>1</th>\n",
       "      <td>1</td>\n",
       "      <td>ts-LNDb-0160-0211.jpg</td>\n",
       "      <td>(349, 512, 660)</td>\n",
       "      <td>(-208.03807160195095, -296.20541828947677, -12...</td>\n",
       "      <td>ts-LNDb-0160-0211</td>\n",
       "    </tr>\n",
       "    <tr>\n",
       "      <th>2</th>\n",
       "      <td>2</td>\n",
       "      <td>ts-LNDb-0160-0214.jpg</td>\n",
       "      <td>(349, 512, 660)</td>\n",
       "      <td>(-208.03807160195095, -296.20541828947677, -12...</td>\n",
       "      <td>ts-LNDb-0160-0214</td>\n",
       "    </tr>\n",
       "    <tr>\n",
       "      <th>3</th>\n",
       "      <td>3</td>\n",
       "      <td>ts-LNDb-0160-0217.jpg</td>\n",
       "      <td>(349, 512, 660)</td>\n",
       "      <td>(-208.03807160195095, -296.20541828947677, -12...</td>\n",
       "      <td>ts-LNDb-0160-0217</td>\n",
       "    </tr>\n",
       "    <tr>\n",
       "      <th>4</th>\n",
       "      <td>4</td>\n",
       "      <td>ts-LNDb-0160-0220.jpg</td>\n",
       "      <td>(349, 512, 660)</td>\n",
       "      <td>(-208.03807160195095, -296.20541828947677, -12...</td>\n",
       "      <td>ts-LNDb-0160-0220</td>\n",
       "    </tr>\n",
       "  </tbody>\n",
       "</table>\n",
       "</div>"
      ],
      "text/plain": [
       "   Unnamed: 0                      0         orig shp  \\\n",
       "0           0  ts-LNDb-0160-0208.jpg  (349, 512, 660)   \n",
       "1           1  ts-LNDb-0160-0211.jpg  (349, 512, 660)   \n",
       "2           2  ts-LNDb-0160-0214.jpg  (349, 512, 660)   \n",
       "3           3  ts-LNDb-0160-0217.jpg  (349, 512, 660)   \n",
       "4           4  ts-LNDb-0160-0220.jpg  (349, 512, 660)   \n",
       "\n",
       "                                              origin             t_wrld  \n",
       "0  (-208.03807160195095, -296.20541828947677, -12...  ts-LNDb-0160-0208  \n",
       "1  (-208.03807160195095, -296.20541828947677, -12...  ts-LNDb-0160-0211  \n",
       "2  (-208.03807160195095, -296.20541828947677, -12...  ts-LNDb-0160-0214  \n",
       "3  (-208.03807160195095, -296.20541828947677, -12...  ts-LNDb-0160-0217  \n",
       "4  (-208.03807160195095, -296.20541828947677, -12...  ts-LNDb-0160-0220  "
      ]
     },
     "execution_count": 39,
     "metadata": {},
     "output_type": "execute_result"
    }
   ],
   "source": [
    "ppt.head()"
   ]
  },
  {
   "cell_type": "code",
   "execution_count": 40,
   "metadata": {},
   "outputs": [],
   "source": [
    "files = out_df['file']"
   ]
  },
  {
   "cell_type": "code",
   "execution_count": 41,
   "metadata": {},
   "outputs": [],
   "source": [
    "def fileToId(file_str):\n",
    "    return int((file_str).split('-')[-2].lstrip('0'))"
   ]
  },
  {
   "cell_type": "code",
   "execution_count": 42,
   "metadata": {},
   "outputs": [],
   "source": [
    "def fileToZ(file_str):\n",
    "    return int((file_str).split('-')[-1].lstrip('0').strip('.')[0])"
   ]
  },
  {
   "cell_type": "code",
   "execution_count": 43,
   "metadata": {},
   "outputs": [],
   "source": [
    "def stripPath(df):\n",
    "    df['file'] = df['file'].apply(lambda x: x.split('/')[-1].split('.')[0])"
   ]
  },
  {
   "cell_type": "code",
   "execution_count": 44,
   "metadata": {},
   "outputs": [],
   "source": [
    "stripPath(out_df)"
   ]
  },
  {
   "cell_type": "code",
   "execution_count": 45,
   "metadata": {},
   "outputs": [
    {
     "data": {
      "text/html": [
       "<div>\n",
       "<style scoped>\n",
       "    .dataframe tbody tr th:only-of-type {\n",
       "        vertical-align: middle;\n",
       "    }\n",
       "\n",
       "    .dataframe tbody tr th {\n",
       "        vertical-align: top;\n",
       "    }\n",
       "\n",
       "    .dataframe thead th {\n",
       "        text-align: right;\n",
       "    }\n",
       "</style>\n",
       "<table border=\"1\" class=\"dataframe\">\n",
       "  <thead>\n",
       "    <tr style=\"text-align: right;\">\n",
       "      <th></th>\n",
       "      <th>Unnamed: 0</th>\n",
       "      <th>x</th>\n",
       "      <th>y</th>\n",
       "      <th>conf</th>\n",
       "      <th>cls_conf</th>\n",
       "      <th>cls_pred</th>\n",
       "      <th>file</th>\n",
       "    </tr>\n",
       "  </thead>\n",
       "  <tbody>\n",
       "    <tr>\n",
       "      <th>0</th>\n",
       "      <td>0</td>\n",
       "      <td>151.701859</td>\n",
       "      <td>223.045929</td>\n",
       "      <td>0.976195</td>\n",
       "      <td>0.999687</td>\n",
       "      <td>1.0</td>\n",
       "      <td>ts-LNDb-0006-0196</td>\n",
       "    </tr>\n",
       "    <tr>\n",
       "      <th>1</th>\n",
       "      <td>1</td>\n",
       "      <td>146.343155</td>\n",
       "      <td>225.865540</td>\n",
       "      <td>0.823491</td>\n",
       "      <td>0.997536</td>\n",
       "      <td>1.0</td>\n",
       "      <td>ts-LNDb-0006-0196</td>\n",
       "    </tr>\n",
       "    <tr>\n",
       "      <th>2</th>\n",
       "      <td>2</td>\n",
       "      <td>168.036804</td>\n",
       "      <td>222.385742</td>\n",
       "      <td>0.887685</td>\n",
       "      <td>0.997042</td>\n",
       "      <td>1.0</td>\n",
       "      <td>ts-LNDb-0006-0199</td>\n",
       "    </tr>\n",
       "    <tr>\n",
       "      <th>3</th>\n",
       "      <td>3</td>\n",
       "      <td>414.475555</td>\n",
       "      <td>253.854187</td>\n",
       "      <td>0.995986</td>\n",
       "      <td>0.998764</td>\n",
       "      <td>1.0</td>\n",
       "      <td>ts-LNDb-0006-0211</td>\n",
       "    </tr>\n",
       "    <tr>\n",
       "      <th>4</th>\n",
       "      <td>4</td>\n",
       "      <td>411.358093</td>\n",
       "      <td>256.484802</td>\n",
       "      <td>0.972242</td>\n",
       "      <td>0.998506</td>\n",
       "      <td>1.0</td>\n",
       "      <td>ts-LNDb-0006-0211</td>\n",
       "    </tr>\n",
       "  </tbody>\n",
       "</table>\n",
       "</div>"
      ],
      "text/plain": [
       "   Unnamed: 0           x           y      conf  cls_conf  cls_pred  \\\n",
       "0           0  151.701859  223.045929  0.976195  0.999687       1.0   \n",
       "1           1  146.343155  225.865540  0.823491  0.997536       1.0   \n",
       "2           2  168.036804  222.385742  0.887685  0.997042       1.0   \n",
       "3           3  414.475555  253.854187  0.995986  0.998764       1.0   \n",
       "4           4  411.358093  256.484802  0.972242  0.998506       1.0   \n",
       "\n",
       "                file  \n",
       "0  ts-LNDb-0006-0196  \n",
       "1  ts-LNDb-0006-0196  \n",
       "2  ts-LNDb-0006-0199  \n",
       "3  ts-LNDb-0006-0211  \n",
       "4  ts-LNDb-0006-0211  "
      ]
     },
     "execution_count": 45,
     "metadata": {},
     "output_type": "execute_result"
    }
   ],
   "source": [
    "out_df.head()"
   ]
  },
  {
   "cell_type": "code",
   "execution_count": 60,
   "metadata": {},
   "outputs": [
    {
     "data": {
      "text/plain": [
       "'(328, 512, 512)'"
      ]
     },
     "execution_count": 60,
     "metadata": {},
     "output_type": "execute_result"
    }
   ],
   "source": [
    "ppt_trans = ppt['t_wrld']\n",
    "out_files = out_df['file']"
   ]
  },
  {
   "cell_type": "code",
   "execution_count": 67,
   "metadata": {},
   "outputs": [],
   "source": [
    "coords = []\n",
    "for i in range(len(ppt)):\n",
    "    o_shp = ppt['orig shp'][ppt_trans.apply(lambda x: x[:-5]) == out_files.apply(lambda x: x[:-5])[i]].values[0]\n",
    "    xy = ((out_df[['x', 'y']].iloc[i].values / 512) * literal_eval(o_shp)[1:])\n",
    "    z = fileToZ(files[i])\n",
    "    xyz = np.array([xy[0], xy[1], z], dtype=int)\n",
    "    trans_fn = ppt['t_wrld'][ppt_trans.apply(lambda x: x[:-5]) == out_files.apply(lambda x: x[:-5])[i]].values[0]\n",
    "    file_origin = ppt['origin'][ppt_trans.apply(lambda x: x[:-5]) == out_files.apply(lambda x: x[:-5])[i]].values[0]\n",
    "    xyz = utils.convertToWorldCoord(xyz,literal_eval(file_origin),np.load('./TransMTs2/' + trans_fn + '.npy'))\n",
    "    coords.append(xyz)\n"
   ]
  },
  {
   "cell_type": "code",
   "execution_count": 73,
   "metadata": {},
   "outputs": [],
   "source": [
    "ids = []\n",
    "for file in out_df['file']:\n",
    "    ids.append(fileToId(file))"
   ]
  },
  {
   "cell_type": "code",
   "execution_count": 69,
   "metadata": {},
   "outputs": [],
   "source": [
    "confs = []\n",
    "for i in range(len(ppt)):\n",
    "    conf = out_df['conf'][i] * out_df['cls_conf'][i] if out_df['cls_pred'][i] == 1 else out_df['conf'][i] * (1 - out_df['cls_conf'][i])\n",
    "    confs.append(conf)"
   ]
  },
  {
   "cell_type": "code",
   "execution_count": 70,
   "metadata": {},
   "outputs": [],
   "source": [
    "sub_df = pd.DataFrame(coords, columns=['x','y','z'])\n",
    "sub_df['LNDbID'] = pd.Series(ids)\n",
    "sub_df['Nodule'] = pd.Series(confs)"
   ]
  },
  {
   "cell_type": "code",
   "execution_count": 71,
   "metadata": {},
   "outputs": [
    {
     "data": {
      "text/html": [
       "<div>\n",
       "<style scoped>\n",
       "    .dataframe tbody tr th:only-of-type {\n",
       "        vertical-align: middle;\n",
       "    }\n",
       "\n",
       "    .dataframe tbody tr th {\n",
       "        vertical-align: top;\n",
       "    }\n",
       "\n",
       "    .dataframe thead th {\n",
       "        text-align: right;\n",
       "    }\n",
       "</style>\n",
       "<table border=\"1\" class=\"dataframe\">\n",
       "  <thead>\n",
       "    <tr style=\"text-align: right;\">\n",
       "      <th></th>\n",
       "      <th>x</th>\n",
       "      <th>y</th>\n",
       "      <th>z</th>\n",
       "      <th>LNDbID</th>\n",
       "      <th>Nodule</th>\n",
       "    </tr>\n",
       "  </thead>\n",
       "  <tbody>\n",
       "    <tr>\n",
       "      <th>0</th>\n",
       "      <td>-81.640625</td>\n",
       "      <td>-154.390625</td>\n",
       "      <td>-148.5</td>\n",
       "      <td>6</td>\n",
       "      <td>0.975890</td>\n",
       "    </tr>\n",
       "    <tr>\n",
       "      <th>1</th>\n",
       "      <td>-85.546875</td>\n",
       "      <td>-152.828125</td>\n",
       "      <td>-148.5</td>\n",
       "      <td>6</td>\n",
       "      <td>0.821462</td>\n",
       "    </tr>\n",
       "    <tr>\n",
       "      <th>2</th>\n",
       "      <td>-68.359375</td>\n",
       "      <td>-155.171875</td>\n",
       "      <td>-148.5</td>\n",
       "      <td>6</td>\n",
       "      <td>0.885060</td>\n",
       "    </tr>\n",
       "    <tr>\n",
       "      <th>3</th>\n",
       "      <td>123.828125</td>\n",
       "      <td>-130.953125</td>\n",
       "      <td>-147.5</td>\n",
       "      <td>6</td>\n",
       "      <td>0.994755</td>\n",
       "    </tr>\n",
       "    <tr>\n",
       "      <th>4</th>\n",
       "      <td>121.484375</td>\n",
       "      <td>-128.609375</td>\n",
       "      <td>-147.5</td>\n",
       "      <td>6</td>\n",
       "      <td>0.970789</td>\n",
       "    </tr>\n",
       "  </tbody>\n",
       "</table>\n",
       "</div>"
      ],
      "text/plain": [
       "            x           y      z  LNDbID    Nodule\n",
       "0  -81.640625 -154.390625 -148.5       6  0.975890\n",
       "1  -85.546875 -152.828125 -148.5       6  0.821462\n",
       "2  -68.359375 -155.171875 -148.5       6  0.885060\n",
       "3  123.828125 -130.953125 -147.5       6  0.994755\n",
       "4  121.484375 -128.609375 -147.5       6  0.970789"
      ]
     },
     "execution_count": 71,
     "metadata": {},
     "output_type": "execute_result"
    }
   ],
   "source": [
    "sub_df.head()"
   ]
  },
  {
   "cell_type": "code",
   "execution_count": 72,
   "metadata": {},
   "outputs": [],
   "source": [
    "sub_df.to_csv('predictedNodulesA.csv', columns=['LNDbID', 'x', 'y', 'z', 'Nodule'], index=None)"
   ]
  }
 ],
 "metadata": {
  "kernelspec": {
   "display_name": "Python 3",
   "language": "python",
   "name": "python3"
  },
  "language_info": {
   "codemirror_mode": {
    "name": "ipython",
    "version": 3
   },
   "file_extension": ".py",
   "mimetype": "text/x-python",
   "name": "python",
   "nbconvert_exporter": "python",
   "pygments_lexer": "ipython3",
   "version": "3.7.3"
  }
 },
 "nbformat": 4,
 "nbformat_minor": 4
}
