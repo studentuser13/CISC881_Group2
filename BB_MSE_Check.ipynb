{
 "cells": [
  {
   "cell_type": "markdown",
   "metadata": {
    "colab_type": "text",
    "id": "Ug-_hNLJ7mOz"
   },
   "source": [
    "# Check the MSE of the centroid coordinates when we use constant-dimension bounding boxes in the YOLO algorithm"
   ]
  },
  {
   "cell_type": "code",
   "execution_count": 3,
   "metadata": {
    "colab": {
     "base_uri": "https://localhost:8080/",
     "height": 35
    },
    "colab_type": "code",
    "id": "i8bAsRyrgiaK",
    "outputId": "4cb15248-a9b7-4a6b-bcf2-b3814d35044d"
   },
   "outputs": [],
   "source": [
    "# Libraries\n",
    "import pandas as pd\n",
    "import numpy as np\n",
    "import os\n",
    "#from google.colab import drive\n",
    "#drive.mount('/content/drive')\n",
    "\n",
    "pathToFiles = '.'"
   ]
  },
  {
   "cell_type": "markdown",
   "metadata": {
    "colab_type": "text",
    "id": "QPGREY748YhI"
   },
   "source": [
    "## Load the network output and ground truth labels"
   ]
  },
  {
   "cell_type": "code",
   "execution_count": 133,
   "metadata": {
    "colab": {},
    "colab_type": "code",
    "id": "60-EcQEjhPr0"
   },
   "outputs": [],
   "source": [
    "cbb = pd.read_csv(os.path.join(pathToFiles, 'out_pw_bl_rbb.csv'))\n",
    "prd = pd.read_csv(os.path.join(pathToFiles, 'out_colour_pw_cbb.csv'))\n",
    "gts = pd.read_csv(os.path.join(pathToFiles, 'GTS.csv'))"
   ]
  },
  {
   "cell_type": "code",
   "execution_count": 134,
   "metadata": {},
   "outputs": [
    {
     "data": {
      "text/html": [
       "<div>\n",
       "<style scoped>\n",
       "    .dataframe tbody tr th:only-of-type {\n",
       "        vertical-align: middle;\n",
       "    }\n",
       "\n",
       "    .dataframe tbody tr th {\n",
       "        vertical-align: top;\n",
       "    }\n",
       "\n",
       "    .dataframe thead th {\n",
       "        text-align: right;\n",
       "    }\n",
       "</style>\n",
       "<table border=\"1\" class=\"dataframe\">\n",
       "  <thead>\n",
       "    <tr style=\"text-align: right;\">\n",
       "      <th></th>\n",
       "      <th>Unnamed: 0</th>\n",
       "      <th>LNDbID</th>\n",
       "      <th>x</th>\n",
       "      <th>y</th>\n",
       "      <th>z</th>\n",
       "      <th>w</th>\n",
       "      <th>h</th>\n",
       "      <th>file</th>\n",
       "      <th>orig shp</th>\n",
       "      <th>Index</th>\n",
       "    </tr>\n",
       "  </thead>\n",
       "  <tbody>\n",
       "    <tr>\n",
       "      <th>0</th>\n",
       "      <td>0</td>\n",
       "      <td>1</td>\n",
       "      <td>0.367188</td>\n",
       "      <td>0.611328</td>\n",
       "      <td>260.0</td>\n",
       "      <td>0.007340</td>\n",
       "      <td>0.007340</td>\n",
       "      <td>tr-0001-0000.jpg</td>\n",
       "      <td>(328, 512, 512)</td>\n",
       "      <td>0</td>\n",
       "    </tr>\n",
       "    <tr>\n",
       "      <th>1</th>\n",
       "      <td>1</td>\n",
       "      <td>1</td>\n",
       "      <td>0.591797</td>\n",
       "      <td>0.585938</td>\n",
       "      <td>252.0</td>\n",
       "      <td>0.006472</td>\n",
       "      <td>0.006472</td>\n",
       "      <td>tr-0001-0001.jpg</td>\n",
       "      <td>(328, 512, 512)</td>\n",
       "      <td>1</td>\n",
       "    </tr>\n",
       "    <tr>\n",
       "      <th>2</th>\n",
       "      <td>2</td>\n",
       "      <td>2</td>\n",
       "      <td>0.708984</td>\n",
       "      <td>0.691406</td>\n",
       "      <td>170.0</td>\n",
       "      <td>0.008761</td>\n",
       "      <td>0.008761</td>\n",
       "      <td>tr-0002-0000.jpg</td>\n",
       "      <td>(263, 512, 512)</td>\n",
       "      <td>2</td>\n",
       "    </tr>\n",
       "    <tr>\n",
       "      <th>3</th>\n",
       "      <td>3</td>\n",
       "      <td>2</td>\n",
       "      <td>0.640625</td>\n",
       "      <td>0.720703</td>\n",
       "      <td>182.0</td>\n",
       "      <td>0.006775</td>\n",
       "      <td>0.006775</td>\n",
       "      <td>tr-0002-0001.jpg</td>\n",
       "      <td>(263, 512, 512)</td>\n",
       "      <td>3</td>\n",
       "    </tr>\n",
       "    <tr>\n",
       "      <th>4</th>\n",
       "      <td>4</td>\n",
       "      <td>2</td>\n",
       "      <td>0.189453</td>\n",
       "      <td>0.710938</td>\n",
       "      <td>46.0</td>\n",
       "      <td>0.008090</td>\n",
       "      <td>0.008090</td>\n",
       "      <td>tr-0002-0002.jpg</td>\n",
       "      <td>(263, 512, 512)</td>\n",
       "      <td>4</td>\n",
       "    </tr>\n",
       "  </tbody>\n",
       "</table>\n",
       "</div>"
      ],
      "text/plain": [
       "   Unnamed: 0  LNDbID         x         y      z         w         h  \\\n",
       "0           0       1  0.367188  0.611328  260.0  0.007340  0.007340   \n",
       "1           1       1  0.591797  0.585938  252.0  0.006472  0.006472   \n",
       "2           2       2  0.708984  0.691406  170.0  0.008761  0.008761   \n",
       "3           3       2  0.640625  0.720703  182.0  0.006775  0.006775   \n",
       "4           4       2  0.189453  0.710938   46.0  0.008090  0.008090   \n",
       "\n",
       "               file         orig shp  Index  \n",
       "0  tr-0001-0000.jpg  (328, 512, 512)      0  \n",
       "1  tr-0001-0001.jpg  (328, 512, 512)      1  \n",
       "2  tr-0002-0000.jpg  (263, 512, 512)      2  \n",
       "3  tr-0002-0001.jpg  (263, 512, 512)      3  \n",
       "4  tr-0002-0002.jpg  (263, 512, 512)      4  "
      ]
     },
     "execution_count": 134,
     "metadata": {},
     "output_type": "execute_result"
    }
   ],
   "source": [
    "gts.head()"
   ]
  },
  {
   "cell_type": "code",
   "execution_count": 135,
   "metadata": {
    "colab": {},
    "colab_type": "code",
    "id": "f4-31FVDiGAi"
   },
   "outputs": [],
   "source": [
    "X_str = gts['x'].values * 512\n",
    "Y_str = gts['y'].values * 512"
   ]
  },
  {
   "cell_type": "code",
   "execution_count": 136,
   "metadata": {},
   "outputs": [],
   "source": [
    "def stripPath(df):\n",
    "    df['file'] = df['file'].apply(lambda x: x.split('/')[-1])"
   ]
  },
  {
   "cell_type": "code",
   "execution_count": 137,
   "metadata": {},
   "outputs": [],
   "source": [
    "stripPath(cbb)\n",
    "stripPath(prd)"
   ]
  },
  {
   "cell_type": "markdown",
   "metadata": {
    "colab_type": "text",
    "id": "1Yx74trW8jon"
   },
   "source": [
    "## Check the MSE:"
   ]
  },
  {
   "cell_type": "code",
   "execution_count": 138,
   "metadata": {
    "colab": {
     "base_uri": "https://localhost:8080/",
     "height": 54
    },
    "colab_type": "code",
    "id": "kpPrmTzbkwTW",
    "outputId": "65cb760a-fa4e-4c9a-e311-21c5e9c7f422"
   },
   "outputs": [
    {
     "name": "stdout",
     "output_type": "stream",
     "text": [
      "Constant bounding box MSE: 25.683457\n"
     ]
    }
   ],
   "source": [
    "MSE_constant = []\n",
    "for idx, row in enumerate(cbb[['x','y']].values):\n",
    "  x, y = row\n",
    "  x_str = X_str[gts['file'] == cbb['file'][idx]]\n",
    "  y_str = Y_str[gts['file'] == cbb['file'][idx]]\n",
    "  MSE_constant.append(np.sqrt(np.square(x-x_str)+np.square(y-y_str)))\n",
    "\n",
    "msk = [x not in cbb['file'].values for x in gts['file'].values[:20]]\n",
    "for lbl in gts['file'].values[:20][msk]:\n",
    "    x_str = X_str[gts['file'] == lbl]\n",
    "    y_str = Y_str[gts['file'] == lbl]\n",
    "    MSE_constant.append(np.sqrt(np.square(x_str) + np.square(y_str)))\n",
    "    \n",
    "print('Constant bounding box MSE: %f' % np.mean(MSE_constant))"
   ]
  },
  {
   "cell_type": "code",
   "execution_count": 139,
   "metadata": {},
   "outputs": [
    {
     "name": "stdout",
     "output_type": "stream",
     "text": [
      "      Nodule diameter MSE: 91.890998\n"
     ]
    }
   ],
   "source": [
    "MSE_original = []\n",
    "for idx, row in enumerate(prd[['x','y']].values):\n",
    "  x, y = row\n",
    "  x_str = X_str[gts['file'] == prd['file'][idx]]\n",
    "  y_str = Y_str[gts['file'] == prd['file'][idx]]\n",
    "  MSE_original.append(np.sqrt(np.square(x-x_str)+np.square(y-y_str)))\n",
    "    \n",
    "msk = [x not in prd['file'].values for x in gts['file'].values[:20]]\n",
    "for lbl in gts['file'].values[:20][msk]:\n",
    "    x_str = X_str[gts['file'] == lbl]\n",
    "    y_str = Y_str[gts['file'] == lbl]\n",
    "    MSE_original.append(np.sqrt(np.square(x_str) + np.square(y_str)))\n",
    "\n",
    "print('      Nodule diameter MSE: %f' % np.mean(MSE_original))"
   ]
  }
 ],
 "metadata": {
  "colab": {
   "name": "BB_MSE_Check.ipynb",
   "provenance": []
  },
  "kernelspec": {
   "display_name": "Python 3",
   "language": "python",
   "name": "python3"
  },
  "language_info": {
   "codemirror_mode": {
    "name": "ipython",
    "version": 3
   },
   "file_extension": ".py",
   "mimetype": "text/x-python",
   "name": "python",
   "nbconvert_exporter": "python",
   "pygments_lexer": "ipython3",
   "version": "3.7.3"
  }
 },
 "nbformat": 4,
 "nbformat_minor": 1
}
